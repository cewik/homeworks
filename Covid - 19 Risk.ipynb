{
 "cells": [
  {
   "cell_type": "code",
   "execution_count": 12,
   "metadata": {
    "scrolled": true
   },
   "outputs": [
    {
     "name": "stdout",
     "output_type": "stream",
     "text": [
      "Are you a cigarette addict older than 75 years old? Yes or Nono\n",
      "Do you have a severe chronic disease? Yes or Nono\n",
      "Is your immune system too weak? Yes or Nono\n",
      "You are not in risky group!\n"
     ]
    }
   ],
   "source": [
    "age = input(\"Are you a cigarette addict older than 75 years old? Yes or No\").lower().title()\n",
    "chronic = input(\"Do you have a severe chronic disease? Yes or No\").lower().title()\n",
    "immune = input(\"Is your immune system too weak? Yes or No\").lower().title()\n",
    "if age == \"Yes\" and chronic == \"Yes\" and immune == \"Yes\":\n",
    "    print(\"You are in risky group!\")\n",
    "elif (age == \"No\" or immune == \"No\") and chronic == \"Yes\":\n",
    "    print(\"You are not in risky group+.\")\n",
    "elif age == \"Yes\" and (chronic == \"No\" or immune == \"No\"):\n",
    "    print(\"You are not in risky group-.\")\n",
    "elif (age == \"No\" or chronic == \"No\") and immune == \"Yes\":\n",
    "    print(\"You are in risky group!*\")\n",
    "else:\n",
    "    print(\"You are not in risky group!\")"
   ]
  }
 ],
 "metadata": {
  "kernelspec": {
   "display_name": "Python 3",
   "language": "python",
   "name": "python3"
  },
  "language_info": {
   "codemirror_mode": {
    "name": "ipython",
    "version": 3
   },
   "file_extension": ".py",
   "mimetype": "text/x-python",
   "name": "python",
   "nbconvert_exporter": "python",
   "pygments_lexer": "ipython3",
   "version": "3.8.3"
  }
 },
 "nbformat": 4,
 "nbformat_minor": 4
}
